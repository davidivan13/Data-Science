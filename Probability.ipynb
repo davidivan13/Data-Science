{
  "nbformat": 4,
  "nbformat_minor": 0,
  "metadata": {
    "colab": {
      "provenance": [],
      "include_colab_link": true
    },
    "kernelspec": {
      "name": "python3",
      "display_name": "Python 3"
    },
    "language_info": {
      "name": "python"
    }
  },
  "cells": [
    {
      "cell_type": "markdown",
      "metadata": {
        "id": "view-in-github",
        "colab_type": "text"
      },
      "source": [
        "<a href=\"https://colab.research.google.com/github/davidivan13/Data-Science/blob/main/Probability.ipynb\" target=\"_parent\"><img src=\"https://colab.research.google.com/assets/colab-badge.svg\" alt=\"Open In Colab\"/></a>"
      ]
    },
    {
      "cell_type": "code",
      "execution_count": 1,
      "metadata": {
        "id": "xcFZA0JnPvWY"
      },
      "outputs": [],
      "source": [
        "import numpy as np #library untuk matematika\n",
        "import pandas as pd #library untuk dataframe\n",
        "import seaborn as sns #library untuk visualisasi\n",
        "import matplotlib.pyplot as plt #library untuk visualisasi"
      ]
    },
    {
      "cell_type": "markdown",
      "source": [
        "# Distribusi Diskret"
      ],
      "metadata": {
        "id": "HVbvwmxrZ1kV"
      }
    },
    {
      "cell_type": "markdown",
      "source": [
        "## Distribusi Bernoulli"
      ],
      "metadata": {
        "id": "-lWEnCLKYdok"
      }
    },
    {
      "cell_type": "code",
      "source": [
        "from scipy.stats import bernoulli\n",
        "\n",
        "koin = bernoulli.rvs(size = 1000, p = 0.5)\n",
        "\n",
        "#Membuat plot\n",
        "sns.histplot(koin)\n",
        "plt.show()"
      ],
      "metadata": {
        "colab": {
          "base_uri": "https://localhost:8080/",
          "height": 430
        },
        "id": "RmlXwNdYQxIN",
        "outputId": "23f983fd-6c56-4e04-9a0d-0e6222c76fd8"
      },
      "execution_count": 2,
      "outputs": [
        {
          "output_type": "display_data",
          "data": {
            "text/plain": [
              "<Figure size 640x480 with 1 Axes>"
            ],
            "image/png": "[encoded data removed]"
          },
          "metadata": {}
        }
      ]
    },
    {
      "cell_type": "code",
      "source": [
        "koin"
      ],
      "metadata": {
        "colab": {
          "base_uri": "https://localhost:8080/"
        },
        "id": "X21ZQMAllvqL",
        "outputId": "a21be25f-eb7b-4785-e480-6fadab861d24"
      },
      "execution_count": 3,
      "outputs": [
        {
          "output_type": "execute_result",
          "data": {
            "text/plain": [
              "array([1, 0, 1, 1, 0, 1, 1, 1, 1, 0, 1, 0, 1, 0, 0, 1, 1, 1, 1, 0, 0, 0,\n",
              "       0, 1, 1, 0, 0, 1, 0, 0, 1, 0, 1, 1, 0, 0, 0, 0, 0, 1, 0, 0, 1, 1,\n",
              "       0, 0, 0, 0, 1, 0, 0, 0, 0, 1, 1, 0, 0, 1, 1, 0, 1, 0, 1, 1, 1, 1,\n",
              "       0, 1, 1, 1, 1, 0, 1, 0, 0, 1, 0, 0, 0, 1, 1, 1, 0, 0, 0, 0, 1, 0,\n",
              "       0, 1, 0, 1, 0, 0, 1, 1, 0, 0, 1, 1, 1, 0, 0, 1, 1, 1, 0, 1, 0, 0,\n",
              "       0, 0, 1, 1, 1, 0, 0, 1, 1, 1, 0, 0, 0, 0, 1, 0, 0, 0, 1, 0, 0, 1,\n",
              "       1, 1, 1, 1, 1, 0, 0, 0, 0, 1, 1, 1, 0, 1, 1, 1, 0, 0, 0, 1, 1, 1,\n",
              "       0, 1, 1, 1, 1, 1, 0, 0, 0, 1, 0, 0, 0, 0, 0, 0, 0, 0, 0, 0, 1, 0,\n",
              "       0, 1, 0, 1, 1, 0, 0, 0, 0, 1, 0, 0, 0, 0, 0, 1, 1, 1, 1, 1, 0, 1,\n",
              "       0, 1, 1, 0, 0, 1, 1, 1, 0, 0, 1, 0, 0, 0, 0, 0, 0, 1, 1, 1, 1, 0,\n",
              "       1, 0, 0, 1, 1, 0, 0, 0, 1, 0, 1, 0, 0, 1, 1, 1, 1, 1, 0, 1, 1, 1,\n",
              "       0, 1, 1, 1, 1, 1, 0, 0, 0, 0, 0, 1, 1, 1, 1, 1, 0, 1, 1, 1, 1, 0,\n",
              "       1, 1, 1, 1, 1, 0, 1, 0, 1, 1, 0, 0, 0, 0, 1, 1, 0, 1, 0, 1, 0, 1,\n",
              "       0, 1, 0, 1, 1, 1, 1, 1, 1, 0, 1, 0, 1, 0, 1, 0, 0, 0, 1, 0, 0, 0,\n",
              "       0, 0, 0, 1, 1, 1, 1, 1, 1, 1, 1, 1, 0, 1, 1, 1, 0, 0, 1, 1, 1, 1,\n",
              "       1, 0, 1, 1, 0, 1, 0, 0, 0, 1, 0, 1, 0, 0, 0, 1, 1, 1, 0, 1, 0, 1,\n",
              "       0, 1, 1, 1, 1, 0, 1, 0, 1, 0, 0, 0, 0, 1, 1, 0, 0, 1, 1, 0, 0, 0,\n",
              "       0, 0, 0, 0, 0, 1, 0, 0, 0, 0, 0, 0, 0, 1, 0, 0, 1, 1, 0, 0, 1, 0,\n",
              "       0, 1, 0, 1, 1, 1, 0, 0, 0, 1, 1, 1, 0, 1, 1, 1, 1, 0, 1, 1, 0, 1,\n",
              "       0, 1, 0, 1, 1, 1, 1, 0, 0, 0, 0, 1, 1, 1, 0, 0, 1, 0, 1, 0, 0, 0,\n",
              "       1, 0, 1, 1, 0, 1, 1, 0, 1, 1, 1, 1, 1, 0, 1, 0, 0, 1, 0, 1, 1, 0,\n",
              "       1, 1, 0, 1, 1, 1, 0, 1, 0, 1, 0, 0, 1, 0, 1, 0, 1, 0, 1, 1, 0, 0,\n",
              "       0, 0, 0, 1, 0, 0, 1, 0, 1, 1, 1, 1, 1, 0, 0, 1, 0, 1, 0, 1, 1, 0,\n",
              "       0, 0, 1, 0, 0, 1, 1, 0, 0, 1, 0, 0, 1, 0, 1, 1, 0, 0, 1, 0, 1, 0,\n",
              "       1, 0, 1, 1, 0, 1, 0, 0, 1, 0, 1, 1, 0, 0, 0, 0, 0, 0, 0, 0, 0, 0,\n",
              "       1, 1, 0, 0, 0, 0, 0, 0, 0, 1, 0, 1, 1, 1, 0, 0, 0, 0, 0, 0, 1, 0,\n",
              "       1, 0, 1, 1, 0, 1, 1, 0, 1, 1, 1, 1, 0, 1, 0, 0, 0, 1, 1, 0, 0, 1,\n",
              "       0, 1, 0, 1, 0, 0, 1, 1, 1, 1, 1, 1, 0, 0, 0, 1, 0, 1, 0, 0, 1, 1,\n",
              "       0, 1, 0, 1, 1, 0, 0, 0, 1, 1, 0, 0, 1, 0, 1, 0, 1, 0, 0, 0, 0, 1,\n",
              "       1, 0, 0, 1, 1, 1, 0, 0, 1, 1, 1, 0, 0, 0, 0, 1, 0, 1, 1, 1, 0, 1,\n",
              "       1, 0, 0, 1, 1, 1, 0, 0, 1, 0, 0, 1, 0, 1, 1, 0, 1, 0, 1, 1, 1, 0,\n",
              "       1, 1, 0, 0, 1, 0, 0, 1, 1, 1, 0, 0, 1, 0, 0, 0, 1, 1, 0, 0, 1, 1,\n",
              "       0, 0, 1, 0, 1, 1, 1, 1, 0, 1, 0, 0, 0, 1, 1, 0, 1, 1, 1, 1, 0, 1,\n",
              "       0, 1, 1, 0, 1, 1, 0, 0, 0, 0, 0, 0, 0, 0, 1, 1, 1, 0, 1, 1, 1, 0,\n",
              "       0, 1, 0, 1, 0, 0, 0, 0, 0, 1, 0, 1, 1, 1, 0, 1, 0, 1, 1, 0, 1, 1,\n",
              "       1, 0, 0, 0, 0, 1, 0, 0, 0, 0, 0, 1, 0, 0, 0, 1, 1, 0, 0, 1, 1, 1,\n",
              "       0, 0, 0, 0, 1, 0, 0, 0, 0, 0, 1, 0, 0, 1, 1, 1, 1, 1, 1, 0, 1, 0,\n",
              "       1, 1, 0, 0, 0, 1, 0, 1, 1, 0, 1, 1, 0, 0, 1, 1, 1, 0, 0, 1, 0, 1,\n",
              "       0, 1, 1, 1, 0, 1, 0, 0, 0, 1, 1, 0, 1, 0, 1, 0, 1, 1, 0, 1, 0, 0,\n",
              "       1, 1, 1, 0, 1, 0, 1, 1, 1, 1, 1, 1, 1, 1, 1, 0, 0, 0, 1, 0, 0, 1,\n",
              "       0, 1, 1, 1, 0, 0, 0, 1, 0, 1, 0, 0, 0, 0, 0, 1, 1, 0, 0, 0, 0, 1,\n",
              "       0, 1, 0, 0, 1, 0, 1, 0, 1, 1, 1, 0, 0, 0, 0, 1, 1, 0, 0, 0, 0, 0,\n",
              "       0, 1, 0, 1, 1, 1, 0, 1, 0, 0, 0, 0, 0, 1, 1, 0, 0, 1, 0, 0, 1, 0,\n",
              "       1, 1, 0, 0, 1, 1, 1, 0, 0, 0, 1, 0, 0, 0, 1, 1, 0, 0, 0, 1, 1, 1,\n",
              "       1, 1, 0, 0, 1, 0, 0, 1, 1, 1, 1, 1, 1, 1, 1, 0, 1, 0, 1, 0, 0, 1,\n",
              "       0, 1, 0, 0, 0, 0, 0, 1, 0, 0])"
            ]
          },
          "metadata": {},
          "execution_count": 3
        }
      ]
    },
    {
      "cell_type": "markdown",
      "source": [
        "## Distribusi Binomial"
      ],
      "metadata": {
        "id": "IZNVeyslYkUk"
      }
    },
    {
      "cell_type": "code",
      "source": [
        "from scipy.stats import binom\n",
        "\n",
        "koin = binom.rvs(size = 1000, n = 10, p = 0.5)\n",
        "\n",
        "#Membuat plot\n",
        "sns.histplot(koin)\n",
        "plt.show()"
      ],
      "metadata": {
        "colab": {
          "base_uri": "https://localhost:8080/",
          "height": 430
        },
        "id": "NT-nS1zOQ7EH",
        "outputId": "f70ce08f-163f-4ec5-bc45-4de8f4d0cf68"
      },
      "execution_count": 4,
      "outputs": [
        {
          "output_type": "display_data",
          "data": {
            "text/plain": [
              "<Figure size 640x480 with 1 Axes>"
            ],
            "image/png": "[encoded data removed]"
          },
          "metadata": {}
        }
      ]
    },
    {
      "cell_type": "code",
      "source": [
        "koin"
      ],
      "metadata": {
        "colab": {
          "base_uri": "https://localhost:8080/"
        },
        "id": "hEtAEpDcmR7E",
        "outputId": "fe662931-9e57-4b73-9fec-8d37166ceb6d"
      },
      "execution_count": 5,
      "outputs": [
        {
          "output_type": "execute_result",
          "data": {
            "text/plain": [
              "array([5, 3, 6, 6, 3, 4, 6, 4, 4, 8, 5, 6, 7, 6, 7, 5, 4, 7, 5, 4, 5, 4,\n",
              "       4, 5, 4, 5, 6, 6, 6, 6, 5, 6, 6, 4, 4, 7, 6, 7, 4, 6, 8, 5, 6, 4,\n",
              "       3, 7, 6, 2, 7, 6, 4, 4, 3, 3, 5, 8, 3, 4, 2, 6, 5, 5, 3, 6, 6, 4,\n",
              "       6, 6, 6, 5, 4, 4, 3, 5, 6, 5, 4, 5, 5, 8, 6, 6, 5, 6, 8, 6, 5, 3,\n",
              "       5, 6, 7, 4, 4, 1, 4, 6, 7, 7, 4, 6, 3, 5, 3, 4, 4, 5, 5, 7, 6, 6,\n",
              "       6, 3, 3, 5, 8, 5, 8, 4, 3, 6, 5, 3, 6, 7, 8, 5, 5, 5, 3, 7, 7, 4,\n",
              "       4, 4, 4, 5, 3, 4, 4, 5, 6, 6, 5, 6, 5, 5, 5, 4, 7, 6, 7, 3, 8, 5,\n",
              "       4, 6, 8, 5, 4, 4, 5, 6, 8, 7, 6, 7, 5, 2, 4, 5, 2, 7, 3, 2, 4, 5,\n",
              "       7, 6, 4, 6, 4, 6, 7, 7, 6, 5, 4, 4, 4, 4, 5, 3, 4, 8, 7, 8, 5, 7,\n",
              "       7, 4, 2, 5, 4, 5, 4, 3, 5, 6, 5, 8, 5, 4, 5, 6, 3, 5, 8, 3, 2, 6,\n",
              "       5, 6, 5, 2, 4, 4, 4, 6, 6, 3, 4, 4, 7, 8, 8, 5, 4, 5, 4, 5, 6, 5,\n",
              "       6, 3, 6, 6, 4, 6, 4, 4, 1, 5, 3, 5, 5, 7, 6, 5, 9, 4, 6, 2, 6, 5,\n",
              "       3, 5, 5, 4, 5, 5, 7, 4, 6, 3, 1, 6, 4, 4, 7, 3, 3, 5, 8, 4, 3, 4,\n",
              "       7, 5, 6, 4, 5, 8, 5, 6, 4, 4, 5, 5, 5, 5, 2, 4, 4, 4, 3, 6, 3, 6,\n",
              "       2, 5, 6, 4, 7, 5, 7, 5, 7, 6, 6, 7, 5, 5, 2, 5, 6, 6, 7, 3, 4, 6,\n",
              "       4, 2, 5, 3, 4, 3, 6, 6, 4, 4, 4, 5, 4, 5, 6, 5, 5, 7, 4, 2, 5, 4,\n",
              "       7, 8, 5, 5, 7, 7, 6, 2, 6, 1, 5, 6, 8, 5, 7, 5, 4, 7, 6, 5, 3, 4,\n",
              "       2, 3, 3, 4, 7, 5, 4, 5, 7, 4, 5, 6, 6, 4, 7, 3, 4, 4, 4, 5, 4, 2,\n",
              "       5, 7, 2, 4, 6, 5, 2, 5, 5, 5, 3, 3, 4, 6, 4, 4, 7, 6, 6, 6, 6, 2,\n",
              "       3, 3, 5, 2, 5, 8, 5, 5, 7, 6, 6, 5, 5, 3, 6, 4, 6, 5, 6, 4, 2, 2,\n",
              "       7, 7, 1, 5, 5, 5, 5, 6, 3, 5, 6, 5, 4, 4, 4, 5, 4, 4, 8, 4, 5, 8,\n",
              "       5, 4, 3, 3, 4, 7, 6, 8, 5, 5, 5, 4, 6, 3, 5, 3, 6, 4, 2, 6, 4, 5,\n",
              "       4, 3, 2, 6, 6, 6, 4, 4, 5, 5, 3, 4, 5, 5, 6, 5, 3, 2, 2, 4, 7, 6,\n",
              "       3, 6, 4, 6, 3, 6, 7, 6, 7, 4, 3, 6, 5, 6, 8, 4, 6, 2, 6, 7, 4, 3,\n",
              "       7, 6, 4, 7, 6, 5, 7, 6, 6, 2, 6, 5, 5, 5, 5, 5, 3, 5, 3, 6, 7, 8,\n",
              "       4, 5, 4, 6, 4, 8, 6, 2, 6, 7, 2, 5, 7, 6, 7, 6, 4, 4, 6, 3, 5, 2,\n",
              "       7, 7, 8, 5, 6, 5, 6, 5, 5, 4, 5, 6, 6, 6, 3, 7, 8, 6, 4, 4, 5, 4,\n",
              "       8, 4, 4, 3, 4, 5, 5, 4, 6, 4, 5, 6, 6, 9, 2, 4, 4, 5, 6, 4, 7, 5,\n",
              "       3, 7, 4, 6, 5, 5, 6, 7, 5, 6, 5, 5, 5, 6, 8, 5, 6, 6, 4, 2, 5, 6,\n",
              "       6, 6, 5, 5, 4, 4, 7, 5, 7, 5, 6, 6, 6, 5, 2, 7, 4, 6, 6, 6, 2, 6,\n",
              "       8, 5, 6, 5, 6, 6, 4, 8, 6, 4, 4, 8, 5, 6, 5, 5, 4, 8, 4, 7, 4, 4,\n",
              "       5, 5, 7, 5, 6, 5, 7, 7, 5, 4, 4, 8, 5, 5, 1, 3, 3, 6, 6, 6, 5, 5,\n",
              "       3, 5, 5, 2, 5, 6, 8, 5, 4, 6, 5, 4, 3, 6, 7, 7, 6, 4, 8, 4, 5, 5,\n",
              "       3, 6, 7, 7, 4, 4, 4, 6, 7, 5, 6, 4, 5, 4, 6, 5, 4, 4, 7, 5, 4, 6,\n",
              "       4, 6, 4, 4, 5, 3, 3, 7, 5, 5, 5, 6, 5, 3, 4, 5, 4, 3, 2, 5, 5, 3,\n",
              "       4, 3, 8, 7, 6, 6, 5, 6, 9, 4, 3, 4, 4, 6, 7, 5, 3, 3, 4, 4, 5, 5,\n",
              "       3, 6, 5, 3, 5, 8, 7, 4, 4, 6, 5, 5, 4, 2, 6, 0, 5, 5, 4, 3, 5, 5,\n",
              "       5, 5, 8, 5, 5, 6, 6, 3, 6, 7, 5, 5, 4, 6, 5, 8, 2, 3, 5, 5, 6, 5,\n",
              "       4, 3, 6, 7, 3, 3, 6, 5, 6, 4, 5, 8, 2, 4, 5, 5, 4, 6, 7, 6, 5, 6,\n",
              "       4, 5, 5, 6, 4, 7, 3, 4, 7, 3, 5, 4, 5, 6, 4, 3, 3, 4, 6, 4, 6, 4,\n",
              "       4, 5, 5, 4, 6, 3, 4, 3, 5, 6, 5, 4, 5, 6, 4, 4, 5, 5, 9, 4, 9, 5,\n",
              "       8, 4, 7, 3, 2, 5, 4, 2, 4, 5, 6, 6, 8, 6, 5, 4, 7, 6, 7, 5, 7, 5,\n",
              "       6, 3, 4, 5, 7, 3, 5, 5, 4, 5, 5, 4, 3, 3, 9, 3, 3, 6, 2, 7, 5, 5,\n",
              "       6, 6, 2, 6, 5, 4, 3, 8, 6, 5, 8, 5, 6, 7, 8, 5, 4, 4, 5, 5, 2, 8,\n",
              "       5, 6, 3, 5, 6, 4, 4, 8, 5, 5, 6, 6, 5, 6, 4, 4, 6, 5, 7, 7, 4, 7,\n",
              "       7, 5, 5, 7, 4, 8, 8, 5, 4, 8])"
            ]
          },
          "metadata": {},
          "execution_count": 5
        }
      ]
    },
    {
      "cell_type": "markdown",
      "source": [
        "## Distribusi Poisson"
      ],
      "metadata": {
        "id": "1glym9-IZyGK"
      }
    },
    {
      "cell_type": "code",
      "source": [
        "from scipy.stats import poisson\n",
        "\n",
        "cacat = poisson.rvs(size = 1000, mu = 2)\n",
        "\n",
        "#Membuat plot\n",
        "sns.histplot(cacat)\n",
        "plt.show()"
      ],
      "metadata": {
        "colab": {
          "base_uri": "https://localhost:8080/",
          "height": 435
        },
        "id": "6EtJCiUKQ8SF",
        "outputId": "fcdb1b83-aad0-4233-ce4a-7e55dd7baaa3"
      },
      "execution_count": 6,
      "outputs": [
        {
          "output_type": "display_data",
          "data": {
            "text/plain": [
              "<Figure size 640x480 with 1 Axes>"
            ],
            "image/png": "[encoded data removed]"
          },
          "metadata": {}
        }
      ]
    },
    {
      "cell_type": "code",
      "source": [
        "cacat"
      ],
      "metadata": {
        "colab": {
          "base_uri": "https://localhost:8080/"
        },
        "id": "odm_lmRrnN0i",
        "outputId": "6aae7873-4122-4056-8df7-2bead7743062"
      },
      "execution_count": 7,
      "outputs": [
        {
          "output_type": "execute_result",
          "data": {
            "text/plain": [
              "array([ 3,  2,  2,  1,  1,  2,  3,  1,  1,  2,  1,  2,  4,  5,  3,  3,  1,\n",
              "        4,  0,  0,  3,  1,  1,  3,  2,  2,  1,  0,  2,  3,  2,  4,  2,  3,\n",
              "        3,  5,  3,  1,  4,  1,  1,  1,  3,  1,  0,  1,  2,  2,  2,  3,  3,\n",
              "        0,  1,  0,  2,  4,  1,  2,  4,  4,  1,  1,  4,  8,  2,  6,  1,  2,\n",
              "        1,  1,  1,  2,  1,  2,  1,  2,  1,  1,  4,  4,  2,  1,  0,  0,  2,\n",
              "        0,  3,  5,  0,  2,  2,  2,  3,  2,  2,  0,  3,  1,  0,  3,  3,  4,\n",
              "        2,  3,  1,  3,  1,  1,  1,  1,  2,  2,  1,  5,  1,  1,  3,  1,  0,\n",
              "        2,  3,  0,  3,  3,  1,  1,  1,  3,  2,  1,  4,  1,  3,  4,  0,  2,\n",
              "        4,  0,  3,  1,  0,  1,  2,  1,  2,  3,  3,  4,  3,  0,  2,  0,  1,\n",
              "        1,  3,  2,  2,  3,  2,  2,  1,  4,  2,  2,  0,  0,  2,  3,  2,  3,\n",
              "        2,  1,  4,  1,  3,  4,  1,  2,  2,  1,  2,  2,  2,  1,  1,  1,  1,\n",
              "        3,  1,  0,  1,  5,  4,  2,  1,  2,  4,  3,  1,  1,  1,  3,  0,  1,\n",
              "        2,  4,  1,  0,  2,  4,  3,  4,  2,  2,  2,  2,  3,  3,  2,  1,  0,\n",
              "        3,  1,  2,  1,  4,  2,  3,  2,  5,  4,  1,  2,  1,  2,  1,  0,  1,\n",
              "        5,  1,  3,  2,  1,  6,  3,  1,  1,  2,  2,  1,  3,  3,  4,  1,  3,\n",
              "        4,  1,  0,  1,  3,  2,  6,  3,  3,  4,  4,  4,  3,  2,  2,  3,  2,\n",
              "        1,  0,  4,  1,  1,  2,  2,  2,  1,  1,  3,  1,  5,  1,  2,  1,  2,\n",
              "        5,  1,  6,  3,  1,  1,  1,  1,  1,  0,  1,  1,  0,  2,  0,  2,  3,\n",
              "        2,  4,  2,  3,  2,  2,  2,  2,  2,  0,  0,  0,  0,  3,  4,  1,  3,\n",
              "        3,  0,  2,  3,  2,  2,  1,  2,  0,  4,  4,  2,  1,  1,  1,  3,  2,\n",
              "        2,  2,  2,  5,  4,  3,  2,  0,  3,  2,  1,  1,  2,  2,  3,  0,  3,\n",
              "        1,  5,  3,  2,  1,  1,  5,  3,  1,  1,  2,  4,  3,  4,  1,  3,  1,\n",
              "        3,  3,  2,  0,  3,  1,  2,  5,  2,  0,  2,  2,  2,  2,  3,  1,  3,\n",
              "        1,  0,  2,  3,  2,  5,  2,  3,  1,  0,  4,  2,  1,  2,  3,  4,  1,\n",
              "        2,  0,  1,  1,  3,  2,  2,  3,  0,  2,  2,  0,  2,  1,  3,  1,  3,\n",
              "        1,  2,  2,  1,  1,  2,  2,  2,  2,  2,  4,  3,  3,  1,  2,  1,  1,\n",
              "        2,  2,  0,  2,  5,  1,  4,  3,  1,  3,  3,  3,  2,  0,  3,  2,  1,\n",
              "        1,  0,  0,  1,  1,  2,  3,  2,  1,  1,  2,  2,  0,  2,  2,  0,  4,\n",
              "        1,  1,  4,  2,  6,  2,  0,  1,  1,  0,  2,  1,  0,  0,  2,  2,  0,\n",
              "        1,  0,  1,  2,  2,  2,  3,  1,  2,  2,  3,  1,  3,  2,  2,  1,  0,\n",
              "        3,  0,  1,  3,  1,  0,  4,  3,  1,  3,  2,  5,  3,  2,  2,  1,  1,\n",
              "        2,  2,  3,  3,  2,  2,  2,  6,  4,  0,  2,  1,  2,  1,  2,  0,  3,\n",
              "        3,  4,  1,  2,  4,  3,  2,  5,  1, 10,  0,  1,  2,  1,  2,  1,  1,\n",
              "        2,  2,  3,  1,  2,  2,  0,  2,  3,  1,  2,  0,  1,  3,  5,  3,  2,\n",
              "        2,  4,  5,  1,  2,  0,  1,  0,  2,  1,  3,  5,  2,  0,  2,  1,  2,\n",
              "        3,  2,  1,  0,  1,  0,  3,  2,  1,  1,  2,  2,  3,  3,  3,  2,  0,\n",
              "        3,  4,  2,  1,  2,  1,  3,  3,  1,  2,  1,  3,  1,  2,  8,  3,  2,\n",
              "        1,  1,  1,  1,  1,  4,  5,  3,  3,  1,  1,  4,  3,  0,  2,  0,  0,\n",
              "        0,  1,  0,  0,  2,  1,  3,  5,  1,  0,  1,  2,  5,  4,  2,  4,  1,\n",
              "        5,  1,  1,  2,  1,  0,  2,  4,  2,  2,  1,  1,  2,  0,  2,  2,  3,\n",
              "        1,  3,  2,  0,  1,  6,  3,  5,  2,  1,  1,  3,  4,  3,  0,  1,  3,\n",
              "        0,  2,  6,  2,  0,  0,  3,  4,  1,  2,  2,  0,  2,  1,  1,  3,  0,\n",
              "        4,  2,  0,  3,  0,  2,  1,  0,  1,  3,  2,  1,  1,  2,  1,  2,  3,\n",
              "        4,  0,  2,  3,  2,  1,  2,  4,  4,  1,  2,  4,  2,  2,  1,  1,  1,\n",
              "        2,  4,  4,  2,  0,  2,  3,  2,  2,  2,  1,  1,  1,  0,  1,  0,  3,\n",
              "        1,  1,  5,  0,  0,  1,  1,  2,  1,  2,  2,  1,  0,  2,  3,  4,  5,\n",
              "        3,  1,  3,  5,  3,  3,  2,  1,  2,  3,  4,  1,  2,  3,  4,  0,  2,\n",
              "        3,  2,  2,  1,  1,  1,  2,  1,  5,  2,  1,  2,  1,  2,  1,  0,  1,\n",
              "        3,  1,  3,  2,  0,  2,  3,  0,  4,  2,  2,  1,  2,  0,  4,  0,  3,\n",
              "        2,  0,  2,  0,  1,  1,  0,  1,  1,  1,  2,  5,  1,  2,  4,  2,  4,\n",
              "        2,  3,  1,  2,  3,  3,  3,  1,  3,  2,  3,  0,  1,  3,  3,  0,  1,\n",
              "        2,  4,  4,  0,  1,  2,  3,  0,  0,  2,  1,  2,  0,  2,  1,  3,  3,\n",
              "        1,  2,  0,  1,  2,  2,  1,  1,  1,  2,  1,  2,  1,  1,  1,  1,  0,\n",
              "        4,  3,  3,  6,  2,  3,  1,  0,  1,  1,  3,  2,  4,  0,  1,  3,  4,\n",
              "        2,  1,  0,  1,  1,  3,  1,  2,  1,  1,  1,  2,  2,  2,  4,  0,  1,\n",
              "        4,  2,  1,  1,  2,  2,  3,  1,  2,  1,  2,  1,  1,  4,  2,  0,  1,\n",
              "        5,  4,  0,  3,  1,  0,  1,  4,  2,  2,  0,  2,  0,  2,  1,  0,  3,\n",
              "        3,  2,  0,  1,  2,  6,  3,  0,  4,  2,  0,  1,  2,  2,  2,  0,  2,\n",
              "        2,  4,  3,  1,  6,  1,  0,  0,  5,  2,  2,  1,  1,  1])"
            ]
          },
          "metadata": {},
          "execution_count": 7
        }
      ]
    },
    {
      "cell_type": "markdown",
      "source": [
        "# Distribusi Kontinu"
      ],
      "metadata": {
        "id": "_3f3kFJ_Z5bS"
      }
    },
    {
      "cell_type": "markdown",
      "source": [
        "## Distribusi Seragam"
      ],
      "metadata": {
        "id": "JrN5nW8fZ_o6"
      }
    },
    {
      "cell_type": "code",
      "source": [
        "from scipy.stats import uniform\n",
        "\n",
        "uniform_data = uniform.rvs(size = 1000, loc = 0, scale = 9)\n",
        "\n",
        "#Membuat plot\n",
        "sns.histplot(uniform_data)\n",
        "plt.show()"
      ],
      "metadata": {
        "colab": {
          "base_uri": "https://localhost:8080/",
          "height": 430
        },
        "id": "ltKV1kijZ7z7",
        "outputId": "6981279e-4f91-4e5d-f0ce-68c304757239"
      },
      "execution_count": 8,
      "outputs": [
        {
          "output_type": "display_data",
          "data": {
            "text/plain": [
              "<Figure size 640x480 with 1 Axes>"
            ],
            "image/png": "[encoded data removed]"
          },
          "metadata": {}
        }
      ]
    },
    {
      "cell_type": "markdown",
      "source": [
        "## Distirbusi Normal"
      ],
      "metadata": {
        "id": "9fxH6cir-JrR"
      }
    },
    {
      "cell_type": "code",
      "source": [
        "from scipy.stats import norm\n",
        "\n",
        "data_nilai = norm.rvs(size = 1000, loc = 70, scale = 10)\n",
        "\n",
        "#Membuat plot\n",
        "sns.histplot(data_nilai)\n",
        "plt.show()"
      ],
      "metadata": {
        "colab": {
          "base_uri": "https://localhost:8080/",
          "height": 430
        },
        "id": "bnpOVAOgZ-h6",
        "outputId": "e1ddac81-c86f-40c8-c533-f47949124d5b"
      },
      "execution_count": 9,
      "outputs": [
        {
          "output_type": "display_data",
          "data": {
            "text/plain": [
              "<Figure size 640x480 with 1 Axes>"
            ],
            "image/png": "[encoded data removed]"
          },
          "metadata": {}
        }
      ]
    },
    {
      "cell_type": "markdown",
      "source": [
        "## Distirbusi Eksponensial"
      ],
      "metadata": {
        "id": "Xe2SJ6zkGCAj"
      }
    },
    {
      "cell_type": "code",
      "source": [
        "from scipy.stats import expon\n",
        "\n",
        "data_tunggu = expon.rvs(scale = 1, loc = 5,size=  1000)\n",
        "\n",
        "#Membuat plot\n",
        "sns.histplot(data_tunggu)\n",
        "plt.show()"
      ],
      "metadata": {
        "colab": {
          "base_uri": "https://localhost:8080/",
          "height": 430
        },
        "id": "5YyXkd5G-TLx",
        "outputId": "17c8bdb1-1dee-49b3-a384-35d73863c24c"
      },
      "execution_count": 10,
      "outputs": [
        {
          "output_type": "display_data",
          "data": {
            "text/plain": [
              "<Figure size 640x480 with 1 Axes>"
            ],
            "image/png": "[encoded data removed]"
          },
          "metadata": {}
        }
      ]
    },
    {
      "cell_type": "code",
      "source": [],
      "metadata": {
        "id": "QDEsQmu6GaaX"
      },
      "execution_count": 10,
      "outputs": []
    }
  ]
}